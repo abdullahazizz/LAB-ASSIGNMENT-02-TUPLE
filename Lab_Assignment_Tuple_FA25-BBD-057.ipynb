{
 "cells": [
  {
   "cell_type": "code",
   "execution_count": null,
   "id": "9d33e175",
   "metadata": {},
   "outputs": [],
   "source": [
    "# Muhammad Abdullah Aziz (FA25-BBD-057) "
   ]
  },
  {
   "cell_type": "code",
   "execution_count": null,
   "id": "ce3ebf93",
   "metadata": {},
   "outputs": [],
   "source": [
    "# Tuple Lab Assignment"
   ]
  },
  {
   "cell_type": "code",
   "execution_count": null,
   "id": "f12ce9f4",
   "metadata": {},
   "outputs": [],
   "source": [
    "#Task 1: Basic Creation and Access"
   ]
  },
  {
   "cell_type": "code",
   "execution_count": 2,
   "id": "fb99b756",
   "metadata": {},
   "outputs": [
    {
     "name": "stdout",
     "output_type": "stream",
     "text": [
      "('Abdullah', 19, 1.76784)\n",
      "19\n"
     ]
    }
   ],
   "source": [
    "my_info=(\"Abdullah\",19,1.76784)\n",
    "print(my_info)\n",
    "print(my_info[1])"
   ]
  },
  {
   "cell_type": "code",
   "execution_count": null,
   "id": "4ee48941",
   "metadata": {},
   "outputs": [],
   "source": [
    "#Task 2: Single-Item Tuple"
   ]
  },
  {
   "cell_type": "code",
   "execution_count": 6,
   "id": "9f04364b",
   "metadata": {},
   "outputs": [
    {
     "name": "stdout",
     "output_type": "stream",
     "text": [
      "<class 'tuple'>\n"
     ]
    }
   ],
   "source": [
    "single_day = (\"Monday\",)\n",
    "print(type(single_day))"
   ]
  },
  {
   "cell_type": "code",
   "execution_count": null,
   "id": "2344c673",
   "metadata": {},
   "outputs": [],
   "source": [
    "#Task 3: Negative Indexing"
   ]
  },
  {
   "cell_type": "code",
   "execution_count": 8,
   "id": "207b12aa",
   "metadata": {},
   "outputs": [
    {
     "name": "stdout",
     "output_type": "stream",
     "text": [
      "Jupiter\n",
      "Earth\n"
     ]
    }
   ],
   "source": [
    "planets = ('Mercury', 'Venus', 'Earth', 'Mars', 'Jupiter')\n",
    "print(planets[-1])\n",
    "print(planets[-3])"
   ]
  },
  {
   "cell_type": "code",
   "execution_count": null,
   "id": "cbce8781",
   "metadata": {},
   "outputs": [],
   "source": [
    "#Task 4: Tuple Concatenation"
   ]
  },
  {
   "cell_type": "code",
   "execution_count": 9,
   "id": "f4578209",
   "metadata": {},
   "outputs": [
    {
     "name": "stdout",
     "output_type": "stream",
     "text": [
      "(1, 2, 3, 4, 5, 6)\n"
     ]
    }
   ],
   "source": [
    "front_numbers = (1, 2, 3)\n",
    "back_numbers = (4, 5, 6)\n",
    "combined_tuple = front_numbers + back_numbers\n",
    "print(combined_tuple)"
   ]
  },
  {
   "cell_type": "code",
   "execution_count": null,
   "id": "648ceb4e",
   "metadata": {},
   "outputs": [],
   "source": [
    "#Task 5: Tuple Repetition"
   ]
  },
  {
   "cell_type": "code",
   "execution_count": 12,
   "id": "5837d4f9",
   "metadata": {},
   "outputs": [
    {
     "name": "stdout",
     "output_type": "stream",
     "text": [
      "⭐⭐⭐\n"
     ]
    }
   ],
   "source": [
    "icon = (\"⭐\")\n",
    "ratings = icon *3\n",
    "print(ratings)"
   ]
  },
  {
   "cell_type": "code",
   "execution_count": null,
   "id": "fc2ab322",
   "metadata": {},
   "outputs": [],
   "source": [
    "#Task 6: The Immutability Test"
   ]
  },
  {
   "cell_type": "code",
   "execution_count": 14,
   "id": "02598183",
   "metadata": {},
   "outputs": [
    {
     "ename": "TypeError",
     "evalue": "'tuple' object does not support item assignment",
     "output_type": "error",
     "traceback": [
      "\u001b[1;31m---------------------------------------------------------------------------\u001b[0m",
      "\u001b[1;31mTypeError\u001b[0m                                 Traceback (most recent call last)",
      "Input \u001b[1;32mIn [14]\u001b[0m, in \u001b[0;36m<cell line: 2>\u001b[1;34m()\u001b[0m\n\u001b[0;32m      1\u001b[0m status \u001b[38;5;241m=\u001b[39m (\u001b[38;5;124m'\u001b[39m\u001b[38;5;124mpending\u001b[39m\u001b[38;5;124m'\u001b[39m, \u001b[38;5;124m'\u001b[39m\u001b[38;5;124mprocessing\u001b[39m\u001b[38;5;124m'\u001b[39m, \u001b[38;5;124m'\u001b[39m\u001b[38;5;124mcompleted\u001b[39m\u001b[38;5;124m'\u001b[39m)\n\u001b[1;32m----> 2\u001b[0m status[\u001b[38;5;241m0\u001b[39m]\u001b[38;5;241m=\u001b[39m\u001b[38;5;124m\"\u001b[39m\u001b[38;5;124mfailed\u001b[39m\u001b[38;5;124m\"\u001b[39m\n",
      "\u001b[1;31mTypeError\u001b[0m: 'tuple' object does not support item assignment"
     ]
    }
   ],
   "source": [
    "status = ('pending', 'processing', 'completed')\n",
    "status[0]=\"failed\"\n",
    "# It shows TypeError becaues typle cannot be modified "
   ]
  },
  {
   "cell_type": "code",
   "execution_count": null,
   "id": "553de93b",
   "metadata": {},
   "outputs": [],
   "source": [
    "#Task 7: Tuple Slicing"
   ]
  },
  {
   "cell_type": "code",
   "execution_count": 16,
   "id": "8244561f",
   "metadata": {},
   "outputs": [
    {
     "name": "stdout",
     "output_type": "stream",
     "text": [
      "(30, 40, 50)\n",
      "(10, 20, 30, 40)\n"
     ]
    }
   ],
   "source": [
    "data = (10, 20, 30, 40, 50, 60, 70)\n",
    "print(data[2:5])\n",
    "print(data[:4])"
   ]
  },
  {
   "cell_type": "code",
   "execution_count": null,
   "id": "ba615c62",
   "metadata": {},
   "outputs": [],
   "source": [
    "#Task 8: Counting Elements"
   ]
  },
  {
   "cell_type": "code",
   "execution_count": 18,
   "id": "99a2dbcf",
   "metadata": {},
   "outputs": [
    {
     "name": "stdout",
     "output_type": "stream",
     "text": [
      "4\n",
      "4\n"
     ]
    }
   ],
   "source": [
    "results = ('pass', 'fail', 'pass', 'pass', 'defer', 'pass')\n",
    "print(results.count(\"pass\"))\n",
    "print(results.index(\"defer\"))"
   ]
  },
  {
   "cell_type": "code",
   "execution_count": null,
   "id": "a604d3b0",
   "metadata": {},
   "outputs": [],
   "source": []
  }
 ],
 "metadata": {
  "kernelspec": {
   "display_name": "Python 3 (ipykernel)",
   "language": "python",
   "name": "python3"
  },
  "language_info": {
   "codemirror_mode": {
    "name": "ipython",
    "version": 3
   },
   "file_extension": ".py",
   "mimetype": "text/x-python",
   "name": "python",
   "nbconvert_exporter": "python",
   "pygments_lexer": "ipython3",
   "version": "3.9.12"
  }
 },
 "nbformat": 4,
 "nbformat_minor": 5
}
